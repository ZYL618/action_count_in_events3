{
 "cells": [
  {
   "cell_type": "markdown",
   "id": "2e954abb",
   "metadata": {},
   "source": [
    "# 寻找单调性跳变点"
   ]
  },
  {
   "cell_type": "code",
   "execution_count": 1,
   "id": "be80d88e",
   "metadata": {},
   "outputs": [],
   "source": [
    "# 通过Mann-Kendall作为单调性判断标准\n",
    "# data是时间序列Series\n",
    "def get_index_of_bottom_and_top_by_mk(data):\n",
    "    win_size=10\n",
    "    step=5\n",
    "    first = np.inf\n",
    "    second = -np.inf\n",
    "    flag = True\n",
    "    final_win_change = None\n",
    "    while(second < first):\n",
    "        # 记录总共划分的窗格数\n",
    "        win_sum = int(1 + (data.shape[0]-win_size)/step if data.shape[0] > win_size else 0)\n",
    "        # 各窗格起始索引\n",
    "        win_start_index = np.arange(0,win_sum*step,step=step)\n",
    "        # 突变窗格索引【后经处理为中间窗格中间索引】\n",
    "        win_change = np.array([])\n",
    "        # 当前窗口趋势【increasing,decreasing,no trend】\n",
    "        win_trend = np.array([])\n",
    "\n",
    "        # 遍历所有窗格\n",
    "        for i in range(win_sum):\n",
    "            # 窗格数据\n",
    "            win_data = data[win_start_index[i]:win_start_index[i]+win_size]\n",
    "            # 添加当前窗口趋势情况\n",
    "            win_trend = np.append(win_trend,mk.original_test(win_data)[0])  \n",
    "\n",
    "        # 遍历各窗格趋势\n",
    "        for i in range(1,win_trend.shape[0]):\n",
    "            # 上一个不是递增，当下是递增，说明这是突变点\n",
    "            if win_trend[i] == 'increasing' and win_trend[i-1]!='increasing':\n",
    "                win_change = np.append(win_change,win_start_index[i-1])\n",
    "            elif win_trend[i] == 'decreasing' and win_trend[i-1]!='decreasing':\n",
    "                win_change = np.append(win_change,win_start_index[i-1])\n",
    "\n",
    "        # 窗口取中间值作为分割线\n",
    "        win_change = win_change + win_size/2\n",
    "        win_change = win_change.astype(np.int32)\n",
    "        # 起始和结尾都划上分割线\n",
    "        win_change = np.insert(win_change,0,0)\n",
    "        # -1防止越界\n",
    "        win_change = np.append(win_change,data.shape[0]-1)\n",
    "        # 当前划分窗格的方差\n",
    "        variance = np.var(np.diff(win_change))\n",
    "        if flag:\n",
    "            first = variance\n",
    "        else:\n",
    "            second = variance\n",
    "        # 说明此时方差大于上一个切割方式的方差，选定上一种切割方式为最终方法\n",
    "        if second >= first:\n",
    "            break\n",
    "        flag = not flag\n",
    "        win_size = win_size + 5\n",
    "        final_win_change = win_change\n",
    "    \n",
    "    # 索引为上升沿起始标记为1\n",
    "    top_win = np.zeros(final_win_change.shape[0])\n",
    "    if data[final_win_change[0]] <= data[final_win_change[1]]:\n",
    "        top_win[0] = 1\n",
    "    for i in range(1,final_win_change.shape[0]):\n",
    "        if data[final_win_change[i-1]] >= data[final_win_change[i]]:\n",
    "            top_win[i] = 1 \n",
    "    return final_win_change,top_win,win_size,step"
   ]
  },
  {
   "cell_type": "markdown",
   "id": "e6f92a94",
   "metadata": {},
   "source": [
    "# DTW比较"
   ]
  },
  {
   "cell_type": "markdown",
   "id": "25b63280",
   "metadata": {},
   "source": [
    "调用fastdtw库即可"
   ]
  },
  {
   "cell_type": "markdown",
   "id": "836adf3e",
   "metadata": {},
   "source": [
    "# 周期计数"
   ]
  },
  {
   "cell_type": "code",
   "execution_count": 10,
   "id": "b19bc9c6",
   "metadata": {},
   "outputs": [],
   "source": [
    "def get_count(result):\n",
    "    count = 1\n",
    "    for i in range(result.shape[0]):\n",
    "        # 0不做处理\n",
    "        if i == 0 or result[i] == 0 or result[i-1]==0:\n",
    "            continue\n",
    "        # 二者误差小，是相同动作\n",
    "        if result[i]-result[i-1] <= 2:\n",
    "            count = count + 1\n",
    "        # 误差过大，后边已无周期动作【因为已经排序】\n",
    "        else:\n",
    "            return count\n",
    "    return count"
   ]
  },
  {
   "cell_type": "code",
   "execution_count": null,
   "id": "f0e6f04f",
   "metadata": {},
   "outputs": [],
   "source": [
    "# 返回时间序列上升/下降沿相互比较后代价的平均值\n",
    "def get_dtw_mean_cost(win_change,top_win,data):\n",
    "    win_change_length = win_change.shape[0]\n",
    "    # 上升沿个数\n",
    "    top_count = np.count_nonzero(top_win==1)\n",
    "    # 下降沿个数\n",
    "    bottom_count = top_win.shape[0] - top_count\n",
    "    # 存放上升沿DTW对比结果\n",
    "    avg_cost_by_dtw_top = np.zeros(shape=(top_count,top_count))\n",
    "    avg_cost_by_dtw_bottom = np.zeros(shape=(bottom_count,bottom_count))\n",
    "    # 上升/下降沿行索引\n",
    "    k_top = 0\n",
    "    k_bottom = 0\n",
    "    # 列索引\n",
    "    g_top = 0\n",
    "    g_bottom = 0\n",
    "    # 保证不越界，冒泡比较\n",
    "    for i in range(0,win_change_length-1):\n",
    "        # 避免同一段被重复比较\n",
    "        if top_win[i] == top_win[i+1]:\n",
    "            continue\n",
    "        # 说明 i 指向的是上升沿起始\n",
    "        if top_win[i] == 1:\n",
    "            g_top = k_top + 1\n",
    "        else:\n",
    "            g_bottom = k_bottom + 1\n",
    "        for j in range(i+1,win_change_length-1):\n",
    "            if top_win[j]==top_win[j+1]:\n",
    "                continue\n",
    "            # 需要让 j 指向 i 的后一个上升沿\n",
    "            if top_win[i] == 1 and top_win[j] == 1:\n",
    "                # 得到两个时间序列的匹配代价\n",
    "                cost, _ = fastdtw(data[win_change[i]:win_change[i+1]], data[win_change[j]:win_change[j+1]])\n",
    "                # 将上升沿比较代价存入\n",
    "                num = data[win_change[j]:win_change[j+1]].shape[0] + data[win_change[i]:win_change[i+1]].shape[0]\n",
    "                avg_cost_by_dtw_top[k_top][g_top] = cost/num\n",
    "                avg_cost_by_dtw_top[g_top][k_top] = cost/num\n",
    "                g_top = g_top + 1\n",
    "            elif top_win[i] == 0 and top_win[j] == 0:\n",
    "                # 得到两个时间序列的匹配代价\n",
    "                cost, _ = fastdtw(data[win_change[i]:win_change[i+1]], data[win_change[j]:win_change[j+1]])\n",
    "                # 将上升沿比较代价存入\n",
    "                num = data[win_change[j]:win_change[j+1]].shape[0] + data[win_change[i]:win_change[i+1]].shape[0]\n",
    "                avg_cost_by_dtw_bottom[k_bottom][g_bottom] = cost/num\n",
    "                avg_cost_by_dtw_bottom[g_bottom][k_bottom] = cost/num\n",
    "                g_top = g_top + 1\n",
    "            \n",
    "        if top_win[i] == 1:\n",
    "            k_top = k_top + 1\n",
    "        else:\n",
    "            k_bottom = k_bottom + 1\n",
    "    # 将全0的行删除以及最后一个0删除\n",
    "    avg_cost_by_dtw_top = avg_cost_by_dtw_top[:-1,:-1]\n",
    "    avg_cost_by_dtw_bottom = avg_cost_by_dtw_bottom[:-1,:-1]\n",
    "    # 将自身比较代价替换为其他数的平均值\n",
    "    for arr in avg_cost_by_dtw_top:\n",
    "        temp = np.sum(arr)/(arr.shape[0]-1)\n",
    "        arr[arr==0] = temp\n",
    "    for arr in avg_cost_by_dtw_bottom:\n",
    "        temp = np.sum(arr)/(arr.shape[0]-1)\n",
    "        arr[arr==0] = temp\n",
    "    # 求当前序列与其他序列进行比较的代价平均数\n",
    "    result_top = np.sort(np.mean(avg_cost_by_dtw_top,axis=1))\n",
    "    result_bottom = np.sort(np.mean(avg_cost_by_dtw_bottom,axis=1))\n",
    "    # 得到上升沿计数\n",
    "    count_top = get_count(result_top)\n",
    "    # 下降沿计数\n",
    "    count_bottom = get_count(result_bottom)\n",
    "    # 返回上下沿计数更大的\n",
    "    return count_top if count_top > count_bottom else count_bottom"
   ]
  },
  {
   "cell_type": "code",
   "execution_count": 2,
   "id": "aa06f2a0",
   "metadata": {},
   "outputs": [],
   "source": [
    "def get_count_by_cost(file_name,class_num=-1,nature_flag=True):\n",
    "    file_path = None\n",
    "    if nature_flag:\n",
    "        file_path = f'../../event_csv/compress_event_manhattan/class{class_num}/smooth_by_pca/compress_by_mean/{file_name}'\n",
    "    else:\n",
    "        # 人工合成数据\n",
    "        file_path = f'../../event_csv/compress_event_manhattan/articicial/smooth_by_pca/compress_by_mean/{file_name}'\n",
    "    # 经过PCA之后的数据\n",
    "    pca_data = pd.read_csv(file_path)['value']\n",
    "    win_change,top_win,win_size,step = get_index_of_bottom_and_top_by_mk(pca_data)\n",
    "    return get_dtw_mean_cost(win_change,top_win,pca_data)"
   ]
  },
  {
   "cell_type": "code",
   "execution_count": null,
   "id": "e0e46511",
   "metadata": {},
   "outputs": [],
   "source": [
    "# 得到所有动作周期预测信息\n",
    "def get_all_count(nature_flag=True):\n",
    "    # 存储预测值\n",
    "    pred_count = np.array([])\n",
    "    if nature_flag:\n",
    "        for i in range(2,8):\n",
    "            for name in file_names:\n",
    "                if i==3:\n",
    "                    continue\n",
    "                count = get_count_by_cost(f'{name}',i)\n",
    "                pred_count = np.append(pred_count,count)\n",
    "                print(f'文件名为{name}中class_num={i}动作重复次数为：{count}')\n",
    "            print('-----------------')\n",
    "    else:\n",
    "    # 人工合成数据\n",
    "        for name in artificial_file_names:\n",
    "            for i in range(5):\n",
    "                count = get_count_by_cost(f'{name[:-4]}{artificial_file_suffix[i]}',nature_flag=False)\n",
    "                pred_count = np.append(pred_count,count)\n",
    "                print(f'文件名为{name[:-4]}{artificial_file_suffix[i]}的动作重复次数为：{count}')\n",
    "            print('-----------------')\n",
    "    return pred_count"
   ]
  },
  {
   "cell_type": "markdown",
   "id": "23c4f909",
   "metadata": {},
   "source": [
    "# 结果评判标准"
   ]
  },
  {
   "cell_type": "code",
   "execution_count": 3,
   "id": "7623b7f1",
   "metadata": {},
   "outputs": [],
   "source": [
    "# Mean Absolute Error，平均绝对误差\n",
    "def MAE(pred_count,real_count):\n",
    "    return np.mean(np.abs(real_count - pred_count)/real_count)\n",
    "# Root Mean Squared Error，均方根误差\n",
    "def RMSE(pred_count,real_count):\n",
    "    return np.sqrt(np.mean((real_count - pred_count)**2))\n",
    "# OffBy-One (OBO) count error.\n",
    "def OBO(pred_count,real_count):\n",
    "    # 预测值与真实值误差\n",
    "    temp = np.abs(real_count-pred_count)\n",
    "    # 误差小于等于1的预测值所占比重\n",
    "    return temp[temp<=1].shape[0]/temp.shape[0]"
   ]
  },
  {
   "cell_type": "markdown",
   "id": "995c05ea",
   "metadata": {},
   "source": [
    "# PCA主成分分析"
   ]
  },
  {
   "cell_type": "code",
   "execution_count": 1,
   "id": "627b3548",
   "metadata": {},
   "outputs": [],
   "source": [
    "def PCA_method(data):\n",
    "    # 得到DataFrame的ndarray形式\n",
    "    data = data.values\n",
    "    # 降成一维\n",
    "    pca = PCA(n_components=1)\n",
    "    # 将PCA应用在数据上\n",
    "    pca_data = pca.fit_transform(data)\n",
    "    pca_data = np.reshape(pca_data,-1)\n",
    "    # HP滤波\n",
    "    _, smooth = sm.tsa.filters.hpfilter(pca_data)\n",
    "    return smooth"
   ]
  },
  {
   "cell_type": "markdown",
   "id": "45dc3fc8",
   "metadata": {},
   "source": [
    "# 不同条件下指标计算"
   ]
  },
  {
   "cell_type": "code",
   "execution_count": null,
   "id": "4a005a66",
   "metadata": {},
   "outputs": [],
   "source": [
    "# 计算所有光照下所有动作整体误差\n",
    "def all_illumination_all_action(pred_count=None,pred_count_artificial=None):\n",
    "#     print('我们的方法测得自然数据MAE=',MAE(pred_count,nature_real_count))\n",
    "#     print('repnet的方法测得自然数据MAE=',MAE(repnet_nature_pred_count,nature_real_count))\n",
    "#     print('----------------------------')\n",
    "#     print('我们的方法测得自然数据OBO=',OBO(pred_count,nature_real_count))\n",
    "#     print('repnet的方法测得自然数据OBO=',OBO(repnet_nature_pred_count,nature_real_count))\n",
    "#     print('----------------------------')\n",
    "#     print('----------------------------')\n",
    "    print('我们的方法测得人工合成数据MAE=',MAE(pred_count_artificial,artificial_real_count))\n",
    "    print('repnet测得人工合成数据MAE=',MAE(repnet_artificial_pred_count,artificial_real_count))\n",
    "    print('----------------------------')\n",
    "    print('我们的方法测得人工合成数据OBO=',OBO(pred_count_artificial,artificial_real_count))\n",
    "    print('repnet测得人工合成数据OBO=',OBO(repnet_artificial_pred_count,artificial_real_count))"
   ]
  },
  {
   "cell_type": "code",
   "execution_count": null,
   "id": "3da8c853",
   "metadata": {},
   "outputs": [],
   "source": [
    "# 计算不同光照下同一动作整体误差\n",
    "def diff_illumination_all_action(pred_count):\n",
    "    start = 0\n",
    "    for name in file_names:\n",
    "        print(f'光照条件为{name[7:-4]}的MAE=',MAE(pred_count[start::5],nature_real_count[start::5]))\n",
    "        print(f'repnet中光照条件为{name[7:-4]}的MAE=',MAE(repnet_nature_pred_count[start::5],nature_real_count[start::5]))\n",
    "        print(f'光照条件为{name[7:-4]}的OBO=',OBO(pred_count[start::5],nature_real_count[start::5]))\n",
    "        print(f'repnet中光照条件为{name[7:-4]}的OBO=',OBO(repnet_nature_pred_count[start::5],nature_real_count[start::5]))\n",
    "        \n",
    "        start = start + 1\n",
    "        print('-----------------')"
   ]
  },
  {
   "cell_type": "code",
   "execution_count": null,
   "id": "cbc6bfaa",
   "metadata": {},
   "outputs": [],
   "source": [
    "# 计算同一光照下不同动作整体误差\n",
    "def all_illumination_diff_action(pred_count):\n",
    "    start = 0\n",
    "    for i in range(2,8):\n",
    "        if i == 3:\n",
    "            continue\n",
    "        print(f'class={i}动作的MAE=',MAE(pred_count[start:start+5],nature_real_count[start:start+5]))\n",
    "        print(f'repnet中class={i}动作的MAE=',MAE(repnet_nature_pred_count[start:start+5],nature_real_count[start:start+5]))\n",
    "        print(f'class={i}动作的OBO=',OBO(pred_count[start:start+5],nature_real_count[start:start+5]))\n",
    "        print(f'repnet中class={i}动作的OBO=',OBO(repnet_nature_pred_count[start:start+5],nature_real_count[start:start+5]))\n",
    "        \n",
    "        start = start + 5\n",
    "        print('-----------------')"
   ]
  }
 ],
 "metadata": {
  "kernelspec": {
   "display_name": "Python 3 (ipykernel)",
   "language": "python",
   "name": "python3"
  },
  "language_info": {
   "codemirror_mode": {
    "name": "ipython",
    "version": 3
   },
   "file_extension": ".py",
   "mimetype": "text/x-python",
   "name": "python",
   "nbconvert_exporter": "python",
   "pygments_lexer": "ipython3",
   "version": "3.11.4"
  },
  "toc": {
   "base_numbering": 1,
   "nav_menu": {},
   "number_sections": true,
   "sideBar": true,
   "skip_h1_title": false,
   "title_cell": "Table of Contents",
   "title_sidebar": "Contents",
   "toc_cell": false,
   "toc_position": {
    "height": "calc(100% - 180px)",
    "left": "10px",
    "top": "150px",
    "width": "258.844px"
   },
   "toc_section_display": true,
   "toc_window_display": true
  }
 },
 "nbformat": 4,
 "nbformat_minor": 5
}
