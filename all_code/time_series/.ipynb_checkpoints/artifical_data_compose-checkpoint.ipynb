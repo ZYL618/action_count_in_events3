{
 "cells": [
  {
   "cell_type": "markdown",
   "id": "8234b928",
   "metadata": {},
   "source": [
    "\n",
    "<p>随机选取class2中的单次动作作为a，此处的a选取的是user02_fluorescent中class2的第2次重复动作</p>\n",
    "<p>class7中的单次动作作为动作b，此处的b选取的是user02_fluorescent中class7的第7次重复动作</p>\n",
    "<p>a5代表动作a合成了5次；a3_b7动作a先合成3次再续上合成7次的b动作；</p>\n",
    "<p>a3_b13_a3代表动作a合成了3次，续上合成13次的b动作，再续上合成3次的a动作</p>"
   ]
  },
  {
   "cell_type": "markdown",
   "id": "2f9c6612",
   "metadata": {},
   "source": [
    "# 相同动作合成"
   ]
  },
  {
   "cell_type": "code",
   "execution_count": 10,
   "id": "b53461bc",
   "metadata": {},
   "outputs": [],
   "source": [
    "# 合成名字为{file_name}.csv文件动作repeat_times次\n",
    "# 返回单个动作事件个数，方便往重复动作中插入其他动作\n",
    "def get_same(file_name,repeat_times):\n",
    "    # 得到单个动作\n",
    "    df = pd.read_csv(f'../../event_csv/split_data/artificial/{file_name}.csv',usecols=['timestamp','x','y'])\n",
    "    # 合成repeat_times次\n",
    "    df1 = df \n",
    "    for i in range(repeat_times-1):\n",
    "        df1 = pd.concat([df1, df],ignore_index=True)\n",
    "    pd.DataFrame([['timestamp','x','y']]).to_csv(\n",
    "    f'../../event_csv/split_data/artificial/{file_name}{repeat_times}.csv',\n",
    "    index=False,header=False,mode='w'\n",
    "    )\n",
    "    df1.to_csv(\n",
    "    f'../../event_csv/split_data/artificial/{file_name}{repeat_times}.csv',\n",
    "    index=False,header=False,mode='a'\n",
    "    )"
   ]
  },
  {
   "cell_type": "markdown",
   "id": "2efdb2e9",
   "metadata": {},
   "source": [
    "# 相同动作前后拼接\n"
   ]
  },
  {
   "cell_type": "code",
   "execution_count": 11,
   "id": "faf69922",
   "metadata": {},
   "outputs": [],
   "source": [
    "def get_front_or_tail(repeat_times_A,repeat_times_B):\n",
    "    # 动作A\n",
    "    df_A = pd.read_csv(f'../../event_csv/split_data/artificial/a{repeat_times_A}.csv')\n",
    "    # 动作B\n",
    "    df_B = pd.read_csv(f'../../event_csv/split_data/artificial/b{repeat_times_B}.csv')\n",
    "\n",
    "    pd.DataFrame([['timestamp','x','y']]).to_csv(f'../../event_csv/split_data/artificial/b{repeat_times_B}_a{repeat_times_A}.csv',\n",
    "                                     index=False,header=False,mode='w')\n",
    "    # B接在A前面\n",
    "    pd.concat([df_B,df_A],ignore_index=True).to_csv(f'../../event_csv/split_data/artificial/b{repeat_times_B}_a{repeat_times_A}.csv',\n",
    "                                     index=False,header=False,mode='a')\n",
    "\n",
    "    pd.DataFrame([['timestamp','x','y']]).to_csv(f'../../event_csv/split_data/artificial/a{repeat_times_A}_b{repeat_times_B}.csv',\n",
    "                                     index=False,header=False,mode='w')\n",
    "    # B接在A后面\n",
    "    pd.concat([df_A,df_B],ignore_index=True).to_csv(f'../../event_csv/split_data/artificial/a{repeat_times_A}_b{repeat_times_B}.csv',\n",
    "                                         index=False,header=False,mode='a')"
   ]
  },
  {
   "cell_type": "code",
   "execution_count": 24,
   "id": "44cb9866",
   "metadata": {},
   "outputs": [],
   "source": [
    "# flag为True时，B动作夹在中间，反之A动作夹在中间\n",
    "def get_mid(repeat_times_A,repeat_times_B,flag=True):\n",
    "    if repeat_times_A == 1:\n",
    "        repeat_times_A = ''\n",
    "    if repeat_times_B == 1:\n",
    "        repeat_times_B = ''\n",
    "    # 动作A\n",
    "    df_A = pd.read_csv(f'../../event_csv/split_data/artificial/a{repeat_times_A}.csv')\n",
    "    # 动作B\n",
    "    df_B = pd.read_csv(f'../../event_csv/split_data/artificial/b{repeat_times_B}.csv')\n",
    "    if flag:\n",
    "        pd.DataFrame([['timestamp','x','y']]).to_csv(\n",
    "            f'../../event_csv/split_data/artificial/a{repeat_times_A}_b{repeat_times_B}_a{repeat_times_A}.csv',\n",
    "            index=False,header=False,mode='w')\n",
    "        pd.concat([df_A,df_B,df_A],ignore_index=True).to_csv(\n",
    "            f'../../event_csv/split_data/artificial/a{repeat_times_A}_b{repeat_times_B}_a{repeat_times_A}.csv',\n",
    "            index=False,header=False,mode='a')\n",
    "    else:\n",
    "        pd.DataFrame([['timestamp','x','y']]).to_csv(\n",
    "            f'../../event_csv/split_data/artificial/b{repeat_times_B}_a{repeat_times_A}_b{repeat_times_B}.csv',\n",
    "            index=False,header=False,mode='w')\n",
    "        pd.concat([df_B,df_A,df_B],ignore_index=True).to_csv(\n",
    "            f'../../event_csv/split_data/artificial/b{repeat_times_B}_a{repeat_times_A}_b{repeat_times_B}.csv',\n",
    "                                                             index=False,header=False,mode='a')"
   ]
  }
 ],
 "metadata": {
  "kernelspec": {
   "display_name": "Python 3 (ipykernel)",
   "language": "python",
   "name": "python3"
  },
  "language_info": {
   "codemirror_mode": {
    "name": "ipython",
    "version": 3
   },
   "file_extension": ".py",
   "mimetype": "text/x-python",
   "name": "python",
   "nbconvert_exporter": "python",
   "pygments_lexer": "ipython3",
   "version": "3.11.4"
  },
  "toc": {
   "base_numbering": 1,
   "nav_menu": {},
   "number_sections": true,
   "sideBar": true,
   "skip_h1_title": false,
   "title_cell": "Table of Contents",
   "title_sidebar": "Contents",
   "toc_cell": false,
   "toc_position": {},
   "toc_section_display": true,
   "toc_window_display": false
  }
 },
 "nbformat": 4,
 "nbformat_minor": 5
}
