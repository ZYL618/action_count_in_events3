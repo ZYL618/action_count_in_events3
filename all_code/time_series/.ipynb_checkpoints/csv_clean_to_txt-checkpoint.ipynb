{
 "cells": [
  {
   "cell_type": "code",
   "execution_count": 2,
   "id": "61ea9000",
   "metadata": {},
   "outputs": [],
   "source": [
    "import numpy as np\n",
    "import pandas as pd"
   ]
  },
  {
   "cell_type": "code",
   "execution_count": 7,
   "id": "af9f970a",
   "metadata": {},
   "outputs": [],
   "source": [
    "def csv_clean_to_txt(csv_path,txt_path):\n",
    "    df = pd.read_csv(csv_path,usecols=['timestamp','x','y'],header=1)\n",
    "    timestamp = df['timestamp'][0]\n",
    "    df['timestamp'] = (df['timestamp'] - timestamp)/1e6\n",
    "    df.to_csv(txt_path,index=False,header=False,sep=' ',float_format='%.6f')"
   ]
  },
  {
   "cell_type": "code",
   "execution_count": 8,
   "id": "2873ac2b",
   "metadata": {},
   "outputs": [],
   "source": [
    "csv_path = '../../../datasets/DVS346/original_csv/wave.csv'\n",
    "txt_path = '../../../datasets/DVS346/clean_txt/wave.txt'\n",
    "csv_clean_to_txt(csv_path,txt_path)"
   ]
  }
 ],
 "metadata": {
  "kernelspec": {
   "display_name": "Python 3 (ipykernel)",
   "language": "python",
   "name": "python3"
  },
  "language_info": {
   "codemirror_mode": {
    "name": "ipython",
    "version": 3
   },
   "file_extension": ".py",
   "mimetype": "text/x-python",
   "name": "python",
   "nbconvert_exporter": "python",
   "pygments_lexer": "ipython3",
   "version": "3.11.4"
  },
  "toc": {
   "base_numbering": 1,
   "nav_menu": {},
   "number_sections": true,
   "sideBar": true,
   "skip_h1_title": false,
   "title_cell": "Table of Contents",
   "title_sidebar": "Contents",
   "toc_cell": false,
   "toc_position": {},
   "toc_section_display": true,
   "toc_window_display": false
  }
 },
 "nbformat": 4,
 "nbformat_minor": 5
}
