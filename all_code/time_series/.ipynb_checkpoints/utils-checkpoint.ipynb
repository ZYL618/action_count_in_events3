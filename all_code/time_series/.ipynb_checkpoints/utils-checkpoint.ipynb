{
 "cells": [
  {
   "cell_type": "code",
   "execution_count": 2,
   "id": "8f3f689f",
   "metadata": {},
   "outputs": [],
   "source": [
    "import pandas as pd\n",
    "import statsmodels.api as sm\n",
    "import matplotlib.pyplot as plt"
   ]
  },
  {
   "cell_type": "code",
   "execution_count": 7,
   "id": "2cc2a2cb",
   "metadata": {},
   "outputs": [],
   "source": [
    "# 将series每num个元素取均值进行平滑压缩\n",
    "def mean_compress(series,num=100):\n",
    "    temp = pd.DataFrame(series)\n",
    "    temp['group'] = temp.index//num\n",
    "    temp = temp.groupby(['group']).mean()\n",
    "    temp.columns = ['y']\n",
    "    return temp"
   ]
  },
  {
   "cell_type": "code",
   "execution_count": 8,
   "id": "3d19c56e",
   "metadata": {},
   "outputs": [],
   "source": [
    "# hp滤波并绘图\n",
    "def hp_filter(series):\n",
    "    _, smooth_x = sm.tsa.filters.hpfilter(series)\n",
    "    return smooth_x"
   ]
  },
  {
   "cell_type": "code",
   "execution_count": null,
   "id": "63666add",
   "metadata": {},
   "outputs": [],
   "source": [
    "def draw_time_series(series):\n",
    "    plt.figure(figsize=(30,12))\n",
    "    plt.plot(range(series.shape[0]),series)\n",
    "    plt.show()"
   ]
  },
  {
   "cell_type": "code",
   "execution_count": 6,
   "id": "1749bc83",
   "metadata": {},
   "outputs": [
    {
     "name": "stdout",
     "output_type": "stream",
     "text": [
      "Conversion completed. Data saved to ../../event_csv/compress_event_manhattan/class2/txt/user02_natural.txt\n"
     ]
    }
   ],
   "source": [
    "# csv文件转txt\n",
    "# 读取CSV文件\n",
    "csv_file_path = '../../event_csv/compress_event_manhattan/class2/user02_natural.csv'\n",
    "# 跳过标签行\n",
    "df = pd.read_csv(csv_file_path,header=1)\n",
    "#  设置输出文件路径\n",
    "txt_file_path = '../../event_csv/compress_event_manhattan/class2/txt/user02_natural.txt'\n",
    "\n",
    "# 将数据保存为文本文件，分隔符设置为空格\n",
    "df.to_csv(txt_file_path, sep=' ', index=False)\n",
    "\n",
    "\n",
    "print(f\"Conversion completed. Data saved to {txt_file_path}\")\n"
   ]
  }
 ],
 "metadata": {
  "kernelspec": {
   "display_name": "Python 3 (ipykernel)",
   "language": "python",
   "name": "python3"
  },
  "language_info": {
   "codemirror_mode": {
    "name": "ipython",
    "version": 3
   },
   "file_extension": ".py",
   "mimetype": "text/x-python",
   "name": "python",
   "nbconvert_exporter": "python",
   "pygments_lexer": "ipython3",
   "version": "3.11.4"
  },
  "toc": {
   "base_numbering": 1,
   "nav_menu": {},
   "number_sections": true,
   "sideBar": true,
   "skip_h1_title": false,
   "title_cell": "Table of Contents",
   "title_sidebar": "Contents",
   "toc_cell": false,
   "toc_position": {},
   "toc_section_display": true,
   "toc_window_display": false
  }
 },
 "nbformat": 4,
 "nbformat_minor": 5
}
