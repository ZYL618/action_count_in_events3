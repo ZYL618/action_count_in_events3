{
 "cells": [
  {
   "cell_type": "code",
   "execution_count": 5,
   "id": "9b10ce86",
   "metadata": {},
   "outputs": [],
   "source": [
    "import os\n",
    "import cv2\n",
    "import matplotlib.pyplot as plt\n",
    "from matplotlib.font_manager import FontProperties\n",
    "import numpy as np\n",
    "import pandas as pd\n",
    "import scipy.spatial.distance as dist\n",
    "from scipy.stats import kurtosis, skew\n",
    "from pylab import mpl \n",
    "import pymannkendall as mk\n",
    "from sklearn.cluster import DBSCAN\n",
    "import statsmodels.api as sm\n",
    "from fastdtw import fastdtw\n",
    "from sklearn.decomposition import PCA\n",
    "\n",
    "# 设置字体\n",
    "mpl.rcParams[\"font.sans-serif\"] = [\"SimHei\"]\n",
    "# 解决负号显示问题\n",
    "plt.rcParams['axes.unicode_minus'] = False\n",
    "# 设置坐标轴宽度\n",
    "plt.rcParams['axes.linewidth'] = 2\n",
    "# 文件名称\n",
    "file_names = np.load('../npy_file/file_names.npy')\n",
    "# 人工合成数据文件名称\n",
    "artificial_file_names = np.load('../npy_file/file_names.npy')[:2]\n",
    "# 人工合成数据文件后缀\n",
    "artificial_file_suffix = np.array(['_2_same.csv','_7_same.csv','_front.csv','_mid.csv','_tail.csv'])\n",
    "# 原始数据真实计数标签\n",
    "nature_real_count = np.load('../npy_file/nature_data_real_count.npy')\n",
    "# 人工合成数据真实计数标签\n",
    "artificial_real_count = np.load('../npy_file/artificial_data_real_count.npy')\n",
    "# repnet网络对原始数据的预测标签\n",
    "repnet_nature_pred_count = np.load('../npy_file/repnet_nature_data_real_count.npy')\n",
    "# repnet网络对人工合成数据的预测标签\n",
    "repnet_artificial_pred_count = np.load('../npy_file/repnet_artificial_data_real_count.npy')"
   ]
  }
 ],
 "metadata": {
  "kernelspec": {
   "display_name": "Python 3 (ipykernel)",
   "language": "python",
   "name": "python3"
  },
  "language_info": {
   "codemirror_mode": {
    "name": "ipython",
    "version": 3
   },
   "file_extension": ".py",
   "mimetype": "text/x-python",
   "name": "python",
   "nbconvert_exporter": "python",
   "pygments_lexer": "ipython3",
   "version": "3.11.4"
  },
  "toc": {
   "base_numbering": 1,
   "nav_menu": {},
   "number_sections": true,
   "sideBar": true,
   "skip_h1_title": false,
   "title_cell": "Table of Contents",
   "title_sidebar": "Contents",
   "toc_cell": false,
   "toc_position": {},
   "toc_section_display": true,
   "toc_window_display": false
  }
 },
 "nbformat": 4,
 "nbformat_minor": 5
}
