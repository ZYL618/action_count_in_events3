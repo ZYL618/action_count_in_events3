{
 "cells": [
  {
   "cell_type": "markdown",
   "id": "431ce329",
   "metadata": {},
   "source": [
    "# 事件点转图片\n",
    "> 以2000个事件点为一组进行图片绘制，以帧率15的标准合成视频"
   ]
  },
  {
   "cell_type": "code",
   "execution_count": 2,
   "id": "de1f7256",
   "metadata": {},
   "outputs": [],
   "source": [
    "def draw_and_save(x,y,pic_path):\n",
    "    plt.figure(figsize=(10,6),dpi=100)\n",
    "    plt.xlim(0,128)\n",
    "    plt.ylim(128,0)\n",
    "    plt.axis('off')\n",
    "    plt.scatter(x,y,s=1)\n",
    "    plt.savefig(pic_path)\n",
    "    plt.close()"
   ]
  },
  {
   "cell_type": "code",
   "execution_count": 3,
   "id": "9b996bc6",
   "metadata": {},
   "outputs": [],
   "source": [
    "def event_to_pic(file_name,event_count=2000):\n",
    "    df = pd.read_csv(file_name,skiprows=1)\n",
    "    start = 0\n",
    "    end = event_count\n",
    "    count = 1\n",
    "    # 说明还没遍历完\n",
    "    while end < df.shape[0]:\n",
    "        # 不要时间戳\n",
    "        temp = df.iloc[start:end,1:3]\n",
    "        draw_and_save(temp['x'],temp['y'],f'../../video/artificial/jump/{count}.jpg')\n",
    "        start = end\n",
    "        end = end + event_count\n",
    "        count = count + 1 \n",
    "    temp = df.iloc[start:,1:3]\n",
    "    draw_and_save(temp['x'],temp['y'],f'../../video/artificial/jump/{count}.jpg')"
   ]
  },
  {
   "cell_type": "markdown",
   "id": "cacd77aa",
   "metadata": {},
   "source": [
    "# 图片转视频"
   ]
  },
  {
   "cell_type": "code",
   "execution_count": 4,
   "id": "2561c474",
   "metadata": {},
   "outputs": [],
   "source": [
    "import cv2 \n",
    "import os\n",
    "def sort_key(item):\n",
    "    return int(item[:-4])\n",
    "def pic_to_video(file_name):\n",
    "    # 图片序列文件夹路径和输出视频文件名\n",
    "    images_folder = f'../../../datasets/DVS346/splite_video/{file_name}/seg_pic'\n",
    "    output_video = f'../../../datasets/DVS346/splite_video/{file_name}/{file_name}.mp4'\n",
    "\n",
    "    # 获取文件夹中的所有图片文件\n",
    "    image_files = [f for f in os.listdir(images_folder) if f.endswith('.png')]\n",
    "    image_files = sorted(image_files,key=sort_key)\n",
    "    # 获取第一张图片的尺寸，作为视频帧大小\n",
    "    first_image = cv2.imread(os.path.join(images_folder, image_files[0]))\n",
    "    frame_size = (first_image.shape[1], first_image.shape[0])\n",
    "\n",
    "    # 设置视频参数\n",
    "    fourcc = cv2.VideoWriter_fourcc(*'XVID')\n",
    "    fps = 10\n",
    "\n",
    "    # 创建视频写入对象\n",
    "    out = cv2.VideoWriter(output_video, fourcc, fps, frame_size)\n",
    "\n",
    "    # 遍历图片文件，将每张图片写入视频\n",
    "    for image_file in image_files:\n",
    "        image_path = os.path.join(images_folder, image_file)\n",
    "        frame = cv2.imread(image_path)\n",
    "        out.write(frame)\n",
    "    # 释放资源\n",
    "    out.release()\n",
    "    cv2.destroyAllWindows()"
   ]
  },
  {
   "cell_type": "code",
   "execution_count": 5,
   "id": "6fc8c76a",
   "metadata": {},
   "outputs": [],
   "source": [
    "pic_to_video('hand_clap')\n",
    "pic_to_video('wave')"
   ]
  }
 ],
 "metadata": {
  "kernelspec": {
   "display_name": "Python 3 (ipykernel)",
   "language": "python",
   "name": "python3"
  },
  "language_info": {
   "codemirror_mode": {
    "name": "ipython",
    "version": 3
   },
   "file_extension": ".py",
   "mimetype": "text/x-python",
   "name": "python",
   "nbconvert_exporter": "python",
   "pygments_lexer": "ipython3",
   "version": "3.11.4"
  },
  "toc": {
   "base_numbering": 1,
   "nav_menu": {},
   "number_sections": true,
   "sideBar": true,
   "skip_h1_title": false,
   "title_cell": "Table of Contents",
   "title_sidebar": "Contents",
   "toc_cell": false,
   "toc_position": {},
   "toc_section_display": true,
   "toc_window_display": false
  }
 },
 "nbformat": 4,
 "nbformat_minor": 5
}
