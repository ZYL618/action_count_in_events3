{
 "cells": [
  {
   "cell_type": "raw",
   "id": "dba6fa21",
   "metadata": {},
   "source": [
    "user02_fluorescent_2_same：user02_fluorescent文件中class2合成5次\n",
    "\n",
    "user02_fluorescent_7_same：user02_fluorescent文件中class7合成5次\n",
    "\n",
    "user02_fluorescent_front：user02_fluorescent_7_same拼接user02_fluorescent_2_same\n",
    "\n",
    "user02_fluorescent_mid：在user02_fluorescent_2_same第3个动作后插入user02_fluorescent_7_same，再将user02_fluorescent_2_same剩下的两个动作拼接\n",
    "\n",
    "user02_fluorescent_tail：user02_fluorescent_2_same拼接user02_fluorescent_7_same"
   ]
  },
  {
   "cell_type": "markdown",
   "id": "a05a68c2",
   "metadata": {},
   "source": [
    "# 单个动作截取"
   ]
  },
  {
   "cell_type": "code",
   "execution_count": 39,
   "id": "dd45108d",
   "metadata": {},
   "outputs": [],
   "source": [
    "# 存储单个动作波形，命名为user02_fluorescent_xxx【xxx为class_num】\n",
    "def save_single_action(file_name,start,end,class_num):\n",
    "    # 得到单个动作\n",
    "    df = pd.read_csv(f'../../event_csv/split_data/class{class_num}/{file_name}.csv').query(f'timestamp >= {start} & timestamp < {end}')\n",
    "    pd.DataFrame([['timestamp','x','y']]).to_csv(\n",
    "    f'../../event_csv/split_data/artificial/{file_name}_{class_num}.csv',\n",
    "    index=False,header=False,mode='w')\n",
    "    df.to_csv(\n",
    "    f'../../event_csv/split_data/artificial/{file_name}_{class_num}.csv',\n",
    "    index=False,header=False,mode='a'\n",
    "    )"
   ]
  },
  {
   "cell_type": "markdown",
   "id": "cda29421",
   "metadata": {},
   "source": [
    "# 相同动作合成"
   ]
  },
  {
   "cell_type": "code",
   "execution_count": 41,
   "id": "0cdaae1d",
   "metadata": {},
   "outputs": [],
   "source": [
    "# 合成名字为{file_name}.csv文件指定时间戳[start,end]的动作repeat_times次\n",
    "# 返回单个动作事件个数，方便往重复动作中插入其他动作\n",
    "def get_same(file_name,class_num,repeat_times):\n",
    "    # 得到单个动作\n",
    "    df = pd.read_csv(f'../../event_csv/split_data/artificial/{file_name}_{class_num}.csv')\n",
    "    # 合成repeat_times次\n",
    "    df1 = df \n",
    "    for i in range(repeat_times-1):\n",
    "        df1 = pd.concat([df1, df],ignore_index=True)\n",
    "    pd.DataFrame([['timestamp','x','y']]).to_csv(\n",
    "    f'../../event_csv/split_data/artificial/{file_name}_{class_num}_same.csv',\n",
    "    index=False,header=False,mode='w'\n",
    "    )\n",
    "    df1.to_csv(\n",
    "    f'../../event_csv/split_data/artificial/{file_name}_{class_num}_same.csv',\n",
    "    index=False,header=False,mode='a'\n",
    "    )"
   ]
  },
  {
   "cell_type": "markdown",
   "id": "289e6885",
   "metadata": {},
   "source": [
    "# 相同动作拼接\n",
    "> 统一将class2视为动作A，class7视为动作B"
   ]
  },
  {
   "cell_type": "code",
   "execution_count": 1,
   "id": "6bec0c47",
   "metadata": {},
   "outputs": [],
   "source": [
    "# 将动作B放在动作A之前/后【在此之前A已合成5次，B合成了3次】，B_front_flag为True代表B在前面\n",
    "def get_front_or_tail(file_name,class_num_A,class_num_B):\n",
    "    # 动作A\n",
    "    df_A = pd.read_csv(f'../../event_csv/split_data/artificial/{file_name}_{class_num_A}_same.csv')\n",
    "    # 动作B\n",
    "    df_B = pd.read_csv(f'../../event_csv/split_data/artificial/{file_name}_{class_num_B}_same.csv')\n",
    "\n",
    "    pd.DataFrame([['timestamp','x','y']]).to_csv(f'../../event_csv/split_data/artificial/{file_name}_front.csv',\n",
    "                                     index=False,header=False,mode='w')\n",
    "    # B接在A前面\n",
    "    pd.concat([df_B,df_A],ignore_index=True).to_csv(f'../../event_csv/split_data/artificial/{file_name}_front.csv',\n",
    "                                     index=False,header=False,mode='a')\n",
    "\n",
    "    pd.DataFrame([['timestamp','x','y']]).to_csv(f'../../event_csv/split_data/artificial/{file_name}_tail.csv',\n",
    "                                     index=False,header=False,mode='w')\n",
    "    # B接在A后面\n",
    "    pd.concat([df_A,df_B],ignore_index=True).to_csv(f'../../event_csv/split_data/artificial/{file_name}_tail.csv',\n",
    "                                         index=False,header=False,mode='a')"
   ]
  },
  {
   "cell_type": "code",
   "execution_count": 49,
   "id": "82b6a503",
   "metadata": {},
   "outputs": [],
   "source": [
    "# 将动作B插入到第behind_A个A动作之后\n",
    "def get_mid(file_name,class_num_A,class_num_B,behind_A):\n",
    "    # 单个A动作长度\n",
    "    A_singal_length = pd.read_csv(f'../../event_csv/split_data/artificial/{file_name}_{class_num_A}.csv').shape[0]\n",
    "    # 动作A\n",
    "    df_A = pd.read_csv(f'../../event_csv/split_data/artificial/{file_name}_{class_num_A}_same.csv')\n",
    "    # 动作B\n",
    "    df_B = pd.read_csv(f'../../event_csv/split_data/artificial/{file_name}_{class_num_B}_same.csv')\n",
    "    # 动作A分界点\n",
    "    gap_point = A_singal_length * behind_A\n",
    "    pd.DataFrame([['timestamp','x','y']]).to_csv(f'../../event_csv/split_data/artificial/{file_name}_mid.csv',\n",
    "                                         index=False,header=False,mode='w')\n",
    "    \n",
    "    pd.concat([df_A[:gap_point],df_B,df_A[gap_point:]],ignore_index=True).to_csv(f'../../event_csv/split_data/artificial/{file_name}_mid.csv',\n",
    "                                         index=False,header=False,mode='a')"
   ]
  },
  {
   "cell_type": "markdown",
   "id": "182e29f5",
   "metadata": {},
   "source": [
    "# 人工合成数据方法整合"
   ]
  },
  {
   "cell_type": "code",
   "execution_count": 50,
   "id": "8c1986da",
   "metadata": {},
   "outputs": [],
   "source": [
    "def get_syn_data(file_name='user02_fluorescent',start_A=-1,end_A=-1,class_num_A=2,repeat_times_A = 5,\n",
    "                start_B=-1,end_B=-1,class_num_B=7,repeat_times_B = 3):\n",
    "    # 保存单一动作\n",
    "    save_single_action(file_name,start_A,end_A,class_num_A)\n",
    "    save_single_action(file_name,start_B,end_B,class_num_B)\n",
    "    \n",
    "    # 合成相同动作A\n",
    "    get_same(file_name,class_num_A,repeat_times_A)\n",
    "    # 合成相同的动作B \n",
    "    get_same(file_name,class_num_B,repeat_times_B)\n",
    "    \n",
    "    # 多个B拼接在A前/后面\n",
    "    get_front_or_tail(file_name,class_num_A,class_num_B)\n",
    "    \n",
    "    # 将多个B拼接在第三个A之后\n",
    "    get_mid(file_name,class_num_A,class_num_B,behind_A=3)\n",
    "    "
   ]
  }
 ],
 "metadata": {
  "kernelspec": {
   "display_name": "Python 3 (ipykernel)",
   "language": "python",
   "name": "python3"
  },
  "language_info": {
   "codemirror_mode": {
    "name": "ipython",
    "version": 3
   },
   "file_extension": ".py",
   "mimetype": "text/x-python",
   "name": "python",
   "nbconvert_exporter": "python",
   "pygments_lexer": "ipython3",
   "version": "3.11.4"
  },
  "toc": {
   "base_numbering": 1,
   "nav_menu": {},
   "number_sections": true,
   "sideBar": true,
   "skip_h1_title": false,
   "title_cell": "Table of Contents",
   "title_sidebar": "Contents",
   "toc_cell": false,
   "toc_position": {},
   "toc_section_display": true,
   "toc_window_display": false
  }
 },
 "nbformat": 4,
 "nbformat_minor": 5
}
