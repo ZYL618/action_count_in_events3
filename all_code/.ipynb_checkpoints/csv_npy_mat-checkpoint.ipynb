{
 "cells": [
  {
   "cell_type": "markdown",
   "id": "406a85b3",
   "metadata": {},
   "source": [
    "# csv转为npy"
   ]
  },
  {
   "cell_type": "code",
   "execution_count": 1,
   "id": "868acd14",
   "metadata": {},
   "outputs": [],
   "source": [
    "import os\n",
    "import pandas as pd\n",
    "import numpy as np\n",
    "from scipy.io import savemat\n",
    "# 所有文件名字\n",
    "file_names = np.load('file_names.npy')"
   ]
  },
  {
   "cell_type": "code",
   "execution_count": 20,
   "id": "1209e578",
   "metadata": {},
   "outputs": [],
   "source": [
    "# 手动为每个csv创建ndarry数组，根据[t,x,y]定位，val赋值\n",
    "def csv_to_npy(file_path,new_file_path):\n",
    "    reader = pd.read_csv(file_path)\n",
    "    # 此时说明没有事件数据\n",
    "    if reader.shape[0]==0:\n",
    "        return\n",
    "    # 时间戳最大值就是时间维度的大小\n",
    "    data = np.zeros((reader['timestamp'].max()+1,128,128))\n",
    "    # val是三维张量的值\n",
    "    for index,row in reader.iterrows():\n",
    "        data[row[0]][row[1]][row[2]] = row[3]\n",
    "    np.save(new_file_path,data)"
   ]
  },
  {
   "cell_type": "code",
   "execution_count": 21,
   "id": "c384897f",
   "metadata": {},
   "outputs": [],
   "source": [
    "for i in range(1,11):\n",
    "    for name in file_names:\n",
    "        file_path = '../events_csv_clean3/sum/class'+str(i)+'/'+name\n",
    "        # 去除.csv后缀\n",
    "        name = name[:-4]\n",
    "        csv_to_npy(file_path,'../events_csv_clean3/sum_npy/class'+str(i)+'/'+name)"
   ]
  },
  {
   "cell_type": "code",
   "execution_count": 24,
   "id": "7ee3754e",
   "metadata": {},
   "outputs": [],
   "source": [
    "for i in range(1,11):\n",
    "    for name in file_names:\n",
    "        file_path = '../events_csv_clean3/tag/class'+str(i)+'/'+name\n",
    "        # 去除.csv后缀\n",
    "        name = name[:-4]\n",
    "        csv_to_npy(file_path,'../events_csv_clean3/tag_npy/class'+str(i)+'/'+name)"
   ]
  },
  {
   "cell_type": "markdown",
   "id": "4c63c441",
   "metadata": {},
   "source": [
    "# npy转换为mat"
   ]
  },
  {
   "cell_type": "code",
   "execution_count": null,
   "id": "886a7bb6",
   "metadata": {},
   "outputs": [],
   "source": [
    "# 加载npy文件中的数据\n",
    "npy_file = 'your_npy_file.npy'\n",
    "data = np.load(npy_file)\n",
    "\n",
    "# 指定保存的MAT文件路径和文件名\n",
    "mat_file = 'output_data.mat'\n",
    "\n",
    "# 使用scipy.io.savemat函数将数据保存为MAT文件\n",
    "savemat(mat_file, {'data': data})"
   ]
  },
  {
   "cell_type": "code",
   "execution_count": 34,
   "id": "ffc709fc",
   "metadata": {},
   "outputs": [],
   "source": [
    "for i in range(1,11):\n",
    "    for name in file_names:\n",
    "        npy_path = '../events_csv_clean3/sum_npy/class'+str(i)+'/'+name[:-4]+'.npy'\n",
    "        mat_path = '../events_csv_clean3/sum_mat/class'+str(i)+'/'+name[:-4]+'.mat'\n",
    "        if os.path.exists(npy_path):\n",
    "            data = np.load(npy_path)\n",
    "            savemat(mat_path,{'data':data})"
   ]
  },
  {
   "cell_type": "code",
   "execution_count": null,
   "id": "e8e776de",
   "metadata": {},
   "outputs": [],
   "source": [
    "for i in range(1,11):\n",
    "    for name in file_names:\n",
    "        npy_path = '../events_csv_clean3/tag_npy/class'+str(i)+'/'+name[:-4]+'.npy'\n",
    "        mat_path = '../events_csv_clean3/tag_mat/class'+str(i)+'/'+name[:-4]+'.mat'\n",
    "        if os.path.exists(npy_path):\n",
    "            data = np.load(npy_path)\n",
    "            savemat(mat_path,{'data':data})"
   ]
  },
  {
   "cell_type": "markdown",
   "id": "f3b92c93",
   "metadata": {},
   "source": [
    "# mat转换为npy"
   ]
  },
  {
   "cell_type": "code",
   "execution_count": null,
   "id": "024848b9",
   "metadata": {},
   "outputs": [],
   "source": [
    "# 加载MAT文件\n",
    "mat_data = scipy.io.loadmat('xxx.mat')\n",
    "# 将数据转换为NumPy数组【key为数据在matlab中的变量名】\n",
    "np.array(mat_data['key'])  "
   ]
  }
 ],
 "metadata": {
  "kernelspec": {
   "display_name": "Python 3 (ipykernel)",
   "language": "python",
   "name": "python3"
  },
  "language_info": {
   "codemirror_mode": {
    "name": "ipython",
    "version": 3
   },
   "file_extension": ".py",
   "mimetype": "text/x-python",
   "name": "python",
   "nbconvert_exporter": "python",
   "pygments_lexer": "ipython3",
   "version": "3.11.4"
  },
  "toc": {
   "base_numbering": 1,
   "nav_menu": {},
   "number_sections": true,
   "sideBar": true,
   "skip_h1_title": false,
   "title_cell": "Table of Contents",
   "title_sidebar": "Contents",
   "toc_cell": false,
   "toc_position": {},
   "toc_section_display": true,
   "toc_window_display": false
  }
 },
 "nbformat": 4,
 "nbformat_minor": 5
}
