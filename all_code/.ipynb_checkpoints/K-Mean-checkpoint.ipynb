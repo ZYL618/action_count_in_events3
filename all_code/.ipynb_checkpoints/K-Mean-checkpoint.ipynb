{
 "cells": [
  {
   "cell_type": "code",
   "execution_count": 1,
   "id": "2db1a0e2",
   "metadata": {},
   "outputs": [
    {
     "data": {
      "text/plain": [
       "array(['user03_fluorescent.csv', 'user03_fluorescent_led.csv',\n",
       "       'user03_led.csv', 'user03_natural.csv', 'user04_fluorescent.csv',\n",
       "       'user04_fluorescent_led.csv', 'user04_led.csv',\n",
       "       'user04_natural.csv', 'user05_fluorescent.csv',\n",
       "       'user05_fluorescent_led.csv', 'user05_lab.csv', 'user05_led.csv',\n",
       "       'user05_natural.csv', 'user06_fluorescent.csv',\n",
       "       'user06_fluorescent_led.csv', 'user06_lab.csv', 'user06_led.csv',\n",
       "       'user06_natural.csv', 'user07_fluorescent.csv',\n",
       "       'user07_fluorescent_led.csv', 'user07_lab.csv', 'user07_led.csv',\n",
       "       'user08_fluorescent.csv', 'user08_fluorescent_led.csv',\n",
       "       'user08_lab.csv', 'user08_led.csv', 'user09_fluorescent.csv',\n",
       "       'user09_fluorescent_led.csv', 'user09_lab.csv', 'user09_led.csv',\n",
       "       'user09_natural.csv'], dtype='<U26')"
      ]
     },
     "execution_count": 1,
     "metadata": {},
     "output_type": "execute_result"
    }
   ],
   "source": [
    "import numpy as np\n",
    "from sklearn.datasets import load_digits\n",
    "from sklearn.cluster import KMeans\n",
    "# 前30个元素\n",
    "file_names = np.load('file_names.npy')[10:41]\n",
    "file_names"
   ]
  },
  {
   "cell_type": "code",
   "execution_count": 4,
   "id": "a15eadd0",
   "metadata": {},
   "outputs": [],
   "source": [
    "# 1008 是因子矩阵展开后的最大值\n",
    "matrix = np.zeros([155,1008])\n",
    "index = 0\n",
    "# class1至class5\n",
    "for i in range(1,6):\n",
    "    for name in file_names:\n",
    "        path = '../events_csv_clean3/sum_g_npy/class'+str(i)+'/'+name[:-4]+'.npy'\n",
    "        # 平展成张量\n",
    "        vector = np.load(path).reshape(-1)\n",
    "        # 没有元素的部分0填充\n",
    "        matrix[index][:len(vector)] = vector\n",
    "        index = index + 1"
   ]
  },
  {
   "cell_type": "code",
   "execution_count": 5,
   "id": "913e3ccc",
   "metadata": {},
   "outputs": [
    {
     "data": {
      "text/plain": [
       "array([0, 4, 2, 2, 2, 2, 2, 2, 2, 2, 2, 2, 2, 2, 2, 2, 2, 2, 2, 2, 2, 2,\n",
       "       2, 2, 2, 2, 2, 2, 2, 2, 2, 1, 1, 1, 1, 2, 2, 2, 2, 2, 1, 1, 2, 2,\n",
       "       2, 2, 2, 2, 2, 2, 2, 1, 2, 4, 4, 2, 2, 2, 2, 1, 2, 2, 3, 3, 4, 4,\n",
       "       2, 2, 2, 2, 4, 2, 0, 2, 2, 4, 2, 2, 2, 2, 2, 2, 1, 2, 2, 2, 0, 2,\n",
       "       4, 4, 2, 1, 2, 4, 3, 4, 4, 2, 2, 2, 2, 2, 2, 2, 2, 4, 2, 2, 2, 2,\n",
       "       2, 2, 2, 4, 2, 4, 4, 4, 4, 2, 2, 4, 4, 4, 1, 1, 1, 1, 2, 2, 2, 2,\n",
       "       2, 2, 2, 2, 2, 2, 2, 2, 2, 2, 2, 2, 1, 2, 2, 2, 1, 2, 2, 2, 1, 1,\n",
       "       2])"
      ]
     },
     "execution_count": 5,
     "metadata": {},
     "output_type": "execute_result"
    }
   ],
   "source": [
    "# 使用KMeans算法对数据进行聚类，将数据分成10类\n",
    "kmeans = KMeans(n_clusters=5, random_state=0).fit(matrix)\n",
    "# 将X划分到各个簇中【X的每一行数据对应划分到哪个簇里】\n",
    "labels = kmeans.predict(matrix)\n",
    "labels"
   ]
  },
  {
   "cell_type": "code",
   "execution_count": 6,
   "id": "86c00a3f",
   "metadata": {},
   "outputs": [],
   "source": [
    "def count01234(labels):\n",
    "    count0=0\n",
    "    count1=0\n",
    "    count2=0\n",
    "    count3=0\n",
    "    count4=0\n",
    "    # 统计标签个数\n",
    "    for i in range(len(labels)):\n",
    "        if labels[i]==0:\n",
    "            count0 = count0+1\n",
    "        elif labels[i]==1:\n",
    "            count1 = count1+1\n",
    "        elif labels[i]==2:\n",
    "            count2 = count2+1\n",
    "        elif labels[i]==3:\n",
    "            count3 = count3+1\n",
    "        elif labels[i]==4:\n",
    "            count4 = count4+1\n",
    "    max_num = max(count0,count1,count2,count3,count4)\n",
    "    if max_num == count0:\n",
    "        return count0,0\n",
    "    elif max_num == count1:\n",
    "        return count1,1\n",
    "    elif max_num == count2:\n",
    "        return count2,2\n",
    "    elif max_num == count3:\n",
    "        return count3,3\n",
    "    else:\n",
    "        return count4,4"
   ]
  },
  {
   "cell_type": "code",
   "execution_count": 7,
   "id": "2b18eb31",
   "metadata": {},
   "outputs": [
    {
     "name": "stdout",
     "output_type": "stream",
     "text": [
      "class1的聚类标签为2，个数为：28\n",
      "class2的聚类标签为2，个数为：20\n",
      "class3的聚类标签为2，个数为：19\n",
      "class4的聚类标签为2，个数为：19\n",
      "class5的聚类标签为2，个数为：24\n"
     ]
    }
   ],
   "source": [
    "# class5：right_arm_counter_clockwise【右手顺时针】\n",
    "# class6：left_arm_clockwise【左手逆时针】 \n",
    "# class7：left_arm_counter_clockwise【左手顺时针】 \n",
    "# class8：arm_roll【手腕前后交替转圈】\n",
    "# class9：air_drums【打鼓】\n",
    "\n",
    "count,num = count01234(labels[:30])\n",
    "print(f'class1的聚类标签为{num}，个数为：{count}')\n",
    "count,num = count01234(labels[30:60])\n",
    "print(f'class2的聚类标签为{num}，个数为：{count}')\n",
    "count,num = count01234(labels[60:90])\n",
    "print(f'class3的聚类标签为{num}，个数为：{count}')\n",
    "count,num = count01234(labels[90:120])\n",
    "print(f'class4的聚类标签为{num}，个数为：{count}')\n",
    "count,num = count01234(labels[120:])\n",
    "print(f'class5的聚类标签为{num}，个数为：{count}')"
   ]
  },
  {
   "cell_type": "code",
   "execution_count": 7,
   "id": "643f9560",
   "metadata": {},
   "outputs": [
    {
     "data": {
      "text/plain": [
       "array([0, 0, 0, 0, 4, 1, 1, 4, 0, 0, 4, 1, 4, 2, 4, 0, 2, 3, 0, 1, 0, 1,\n",
       "       0, 4, 4, 2, 2, 2, 1, 1, 1])"
      ]
     },
     "execution_count": 7,
     "metadata": {},
     "output_type": "execute_result"
    }
   ],
   "source": [
    "labels[-31:]"
   ]
  }
 ],
 "metadata": {
  "kernelspec": {
   "display_name": "Python 3 (ipykernel)",
   "language": "python",
   "name": "python3"
  },
  "language_info": {
   "codemirror_mode": {
    "name": "ipython",
    "version": 3
   },
   "file_extension": ".py",
   "mimetype": "text/x-python",
   "name": "python",
   "nbconvert_exporter": "python",
   "pygments_lexer": "ipython3",
   "version": "3.10.5"
  },
  "toc": {
   "base_numbering": 1,
   "nav_menu": {},
   "number_sections": true,
   "sideBar": true,
   "skip_h1_title": false,
   "title_cell": "Table of Contents",
   "title_sidebar": "Contents",
   "toc_cell": false,
   "toc_position": {},
   "toc_section_display": true,
   "toc_window_display": false
  }
 },
 "nbformat": 4,
 "nbformat_minor": 5
}
