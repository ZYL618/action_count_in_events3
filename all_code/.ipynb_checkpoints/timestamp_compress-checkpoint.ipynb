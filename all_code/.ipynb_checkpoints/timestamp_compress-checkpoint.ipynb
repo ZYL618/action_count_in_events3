{
 "cells": [
  {
   "cell_type": "markdown",
   "id": "76fa81d9",
   "metadata": {},
   "source": [
    "# 按照0.1s为时间片对事件点进行压缩\n",
    "1. 将不同事件点映射到时间片上，val列用于计录同个事件点出现的次数【聚合函数】\n",
    "2. 将不同事件点映射到时间片上，事件有发生就置1"
   ]
  },
  {
   "cell_type": "code",
   "execution_count": 1,
   "id": "3ddbf495",
   "metadata": {},
   "outputs": [],
   "source": [
    "import pandas as pd\n",
    "import numpy as np\n",
    "import os\n",
    "# 所有文件名字\n",
    "file_names = np.load('file_names.npy')"
   ]
  },
  {
   "cell_type": "code",
   "execution_count": 14,
   "id": "09e981d7",
   "metadata": {},
   "outputs": [],
   "source": [
    "# 将时间戳信息替换为 0 起始，增添val列同时压缩时间片为0.1s|\n",
    "# 将第一个事件发生的时间戳置0，其余时间点同步\n",
    "def data_clean(file_path,new_file_path,start_time):\n",
    "    reader = pd.read_csv(file_path,chunksize=10000)\n",
    "    cols = pd.DataFrame(data=[['timestamp','x','y','val']])\n",
    "    # 将列名写入csv文件\n",
    "    cols.to_csv(new_file_path,header=False,index=False)    \n",
    "    # 每次读取 10000 行，chunk是DataFrame\n",
    "    for chunk in reader:\n",
    "        # 整除10的五次方，使得时间戳以0.1s为时间片进行压缩\n",
    "        chunk.iloc[:,0] = (chunk.iloc[:,0] - start_time)//100000\n",
    "        # 新增 val 列置 1\n",
    "        chunk['val'] = 1\n",
    "        chunk.to_csv(new_file_path,mode='a',header=False,index=False)"
   ]
  },
  {
   "cell_type": "code",
   "execution_count": 15,
   "id": "02111615",
   "metadata": {},
   "outputs": [],
   "source": [
    "for i in range(1,11):\n",
    "    for name in file_names:\n",
    "        file_path = '../split_data/class'+str(i)+'/'+name\n",
    "        data = pd.read_csv(file_path,usecols=['timestamp'],nrows=1)\n",
    "        if data.shape[0] > 0:\n",
    "            start_time = data.iloc[0,0]\n",
    "            data_clean(file_path,'../events_csv_clean2/class'+str(i)+'/'+name,start_time)\n",
    "        else:\n",
    "            cols = pd.DataFrame(data=[['timestamp','x','y','val']])\n",
    "            # 将列名写入csv文件\n",
    "            cols.to_csv('../events_csv_clean2/class'+str(i)+'/'+name,header=False,index=False) "
   ]
  },
  {
   "cell_type": "markdown",
   "id": "a1e89c2e",
   "metadata": {},
   "source": [
    "# 将同一时间片发生的事件点进行映射，相同位置事件点累加计入val中"
   ]
  },
  {
   "cell_type": "code",
   "execution_count": 2,
   "id": "92180cdb",
   "metadata": {},
   "outputs": [],
   "source": [
    "def compress1(file_path,new_file_path):\n",
    "    reader = pd.read_csv(file_path)\n",
    "    cols = pd.DataFrame(data=[['timestamp','x','y','val']])\n",
    "    # 将列名写入csv文件\n",
    "    cols.to_csv(new_file_path,header=False,index=False)\n",
    "    # 同个时间片相同事件点累加\n",
    "    grouped = reader.groupby(by=['timestamp','x','y']).sum()\n",
    "    grouped.reset_index(drop=False,inplace=True)\n",
    "    # 写入csv文件\n",
    "    grouped.to_csv(new_file_path,mode='a',header=False,index=False)"
   ]
  },
  {
   "cell_type": "code",
   "execution_count": 17,
   "id": "9df84956",
   "metadata": {},
   "outputs": [],
   "source": [
    "for i in range(1,11):\n",
    "    for name in file_names:\n",
    "        file_path = '../events_csv_clean2/class'+str(i)+'/'+name\n",
    "        compress1(file_path,'../events_csv_clean3/sum/class'+str(i)+'/'+name)"
   ]
  },
  {
   "cell_type": "code",
   "execution_count": 3,
   "id": "d654fe66",
   "metadata": {},
   "outputs": [],
   "source": [
    "# 再compress1的基础上将所有val置1\n",
    "def compress2(file_path,new_file_path):\n",
    "    reader = pd.read_csv(file_path,chunksize=10000)\n",
    "    for chunk in reader:\n",
    "        chunk['val'] = 1\n",
    "        chunk.to_csv(new_file_path,mode='a',header=False,index=False)"
   ]
  },
  {
   "cell_type": "code",
   "execution_count": null,
   "id": "b06cabe9",
   "metadata": {},
   "outputs": [],
   "source": [
    "for i in range(1,11):\n",
    "    for name in file_names:\n",
    "        file_path = '../events_csv_clean3/sum/class'+str(i)+'/'+name\n",
    "        compress2(file_path,'../events_csv_clean3/tag/class'+str(i)+'/'+name)  "
   ]
  }
 ],
 "metadata": {
  "kernelspec": {
   "display_name": "Python 3 (ipykernel)",
   "language": "python",
   "name": "python3"
  },
  "language_info": {
   "codemirror_mode": {
    "name": "ipython",
    "version": 3
   },
   "file_extension": ".py",
   "mimetype": "text/x-python",
   "name": "python",
   "nbconvert_exporter": "python",
   "pygments_lexer": "ipython3",
   "version": "3.10.5"
  },
  "toc": {
   "base_numbering": 1,
   "nav_menu": {},
   "number_sections": true,
   "sideBar": true,
   "skip_h1_title": false,
   "title_cell": "Table of Contents",
   "title_sidebar": "Contents",
   "toc_cell": false,
   "toc_position": {},
   "toc_section_display": true,
   "toc_window_display": false
  }
 },
 "nbformat": 4,
 "nbformat_minor": 5
}
